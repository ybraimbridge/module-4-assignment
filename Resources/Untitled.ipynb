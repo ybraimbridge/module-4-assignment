{
 "cells": [
  {
   "cell_type": "code",
   "execution_count": 2,
   "id": "93bcec47-4851-4505-a7e1-aaedf3ab85f6",
   "metadata": {},
   "outputs": [
    {
     "name": "stdout",
     "output_type": "stream",
     "text": [
      "# packages in environment at /Users/mrnickb/opt/anaconda3:\n",
      "#\n",
      "# Name                    Version                   Build  Channel\n",
      "\n",
      "Note: you may need to restart the kernel to use updated packages.\n"
     ]
    }
   ],
   "source": [
    "conda list package_name\n"
   ]
  },
  {
   "cell_type": "code",
   "execution_count": 3,
   "id": "4f4f5a05-2a74-40c1-9798-ee6095554ae9",
   "metadata": {},
   "outputs": [
    {
     "name": "stdout",
     "output_type": "stream",
     "text": [
      "Collecting python-dotenv\n",
      "  Downloading python_dotenv-0.20.0-py3-none-any.whl (17 kB)\n",
      "Installing collected packages: python-dotenv\n",
      "Successfully installed python-dotenv-0.20.0\n",
      "Note: you may need to restart the kernel to use updated packages.\n"
     ]
    }
   ],
   "source": [
    "pip install python-dotenv"
   ]
  },
  {
   "cell_type": "code",
   "execution_count": 4,
   "id": "4034870f-867f-417a-bcf2-0571781a1f16",
   "metadata": {},
   "outputs": [
    {
     "name": "stdout",
     "output_type": "stream",
     "text": [
      "Collecting alpaca-trade-api\n",
      "  Downloading alpaca_trade_api-2.3.0-py3-none-any.whl (33 kB)\n",
      "Requirement already satisfied: aiohttp==3.8.1 in /Users/mrnickb/opt/anaconda3/lib/python3.9/site-packages (from alpaca-trade-api) (3.8.1)\n",
      "Requirement already satisfied: numpy>=1.11.1 in /Users/mrnickb/opt/anaconda3/lib/python3.9/site-packages (from alpaca-trade-api) (1.21.5)\n",
      "Requirement already satisfied: pandas>=0.18.1 in /Users/mrnickb/opt/anaconda3/lib/python3.9/site-packages (from alpaca-trade-api) (1.4.2)\n",
      "Requirement already satisfied: urllib3<2,>1.24 in /Users/mrnickb/opt/anaconda3/lib/python3.9/site-packages (from alpaca-trade-api) (1.26.9)\n",
      "Requirement already satisfied: msgpack==1.0.3 in /Users/mrnickb/opt/anaconda3/lib/python3.9/site-packages (from alpaca-trade-api) (1.0.3)\n",
      "Requirement already satisfied: websocket-client<2,>=0.56.0 in /Users/mrnickb/opt/anaconda3/lib/python3.9/site-packages (from alpaca-trade-api) (0.58.0)\n",
      "Requirement already satisfied: requests<3,>2 in /Users/mrnickb/opt/anaconda3/lib/python3.9/site-packages (from alpaca-trade-api) (2.27.1)\n",
      "Collecting websockets<11,>=9.0\n",
      "  Downloading websockets-10.3-cp39-cp39-macosx_10_9_x86_64.whl (97 kB)\n",
      "\u001b[K     |████████████████████████████████| 97 kB 2.8 MB/s eta 0:00:011\n",
      "\u001b[?25hCollecting deprecation==2.1.0\n",
      "  Downloading deprecation-2.1.0-py2.py3-none-any.whl (11 kB)\n",
      "Requirement already satisfied: PyYAML==6.0 in /Users/mrnickb/opt/anaconda3/lib/python3.9/site-packages (from alpaca-trade-api) (6.0)\n",
      "Requirement already satisfied: frozenlist>=1.1.1 in /Users/mrnickb/opt/anaconda3/lib/python3.9/site-packages (from aiohttp==3.8.1->alpaca-trade-api) (1.2.0)\n",
      "Requirement already satisfied: async-timeout<5.0,>=4.0.0a3 in /Users/mrnickb/opt/anaconda3/lib/python3.9/site-packages (from aiohttp==3.8.1->alpaca-trade-api) (4.0.1)\n",
      "Requirement already satisfied: yarl<2.0,>=1.0 in /Users/mrnickb/opt/anaconda3/lib/python3.9/site-packages (from aiohttp==3.8.1->alpaca-trade-api) (1.6.3)\n",
      "Requirement already satisfied: aiosignal>=1.1.2 in /Users/mrnickb/opt/anaconda3/lib/python3.9/site-packages (from aiohttp==3.8.1->alpaca-trade-api) (1.2.0)\n",
      "Requirement already satisfied: charset-normalizer<3.0,>=2.0 in /Users/mrnickb/opt/anaconda3/lib/python3.9/site-packages (from aiohttp==3.8.1->alpaca-trade-api) (2.0.4)\n",
      "Requirement already satisfied: attrs>=17.3.0 in /Users/mrnickb/opt/anaconda3/lib/python3.9/site-packages (from aiohttp==3.8.1->alpaca-trade-api) (21.4.0)\n",
      "Requirement already satisfied: multidict<7.0,>=4.5 in /Users/mrnickb/opt/anaconda3/lib/python3.9/site-packages (from aiohttp==3.8.1->alpaca-trade-api) (5.2.0)\n",
      "Requirement already satisfied: packaging in /Users/mrnickb/opt/anaconda3/lib/python3.9/site-packages (from deprecation==2.1.0->alpaca-trade-api) (21.3)\n",
      "Requirement already satisfied: typing-extensions>=3.6.5 in /Users/mrnickb/opt/anaconda3/lib/python3.9/site-packages (from async-timeout<5.0,>=4.0.0a3->aiohttp==3.8.1->alpaca-trade-api) (4.1.1)\n",
      "Requirement already satisfied: python-dateutil>=2.8.1 in /Users/mrnickb/opt/anaconda3/lib/python3.9/site-packages (from pandas>=0.18.1->alpaca-trade-api) (2.8.2)\n",
      "Requirement already satisfied: pytz>=2020.1 in /Users/mrnickb/opt/anaconda3/lib/python3.9/site-packages (from pandas>=0.18.1->alpaca-trade-api) (2021.3)\n",
      "Requirement already satisfied: six>=1.5 in /Users/mrnickb/opt/anaconda3/lib/python3.9/site-packages (from python-dateutil>=2.8.1->pandas>=0.18.1->alpaca-trade-api) (1.16.0)\n",
      "Requirement already satisfied: idna<4,>=2.5 in /Users/mrnickb/opt/anaconda3/lib/python3.9/site-packages (from requests<3,>2->alpaca-trade-api) (3.3)\n",
      "Requirement already satisfied: certifi>=2017.4.17 in /Users/mrnickb/opt/anaconda3/lib/python3.9/site-packages (from requests<3,>2->alpaca-trade-api) (2022.5.18.1)\n",
      "Requirement already satisfied: pyparsing!=3.0.5,>=2.0.2 in /Users/mrnickb/opt/anaconda3/lib/python3.9/site-packages (from packaging->deprecation==2.1.0->alpaca-trade-api) (3.0.4)\n",
      "Installing collected packages: websockets, deprecation, alpaca-trade-api\n",
      "Successfully installed alpaca-trade-api-2.3.0 deprecation-2.1.0 websockets-10.3\n",
      "Note: you may need to restart the kernel to use updated packages.\n"
     ]
    }
   ],
   "source": [
    "pip install alpaca-trade-api"
   ]
  },
  {
   "cell_type": "code",
   "execution_count": 5,
   "id": "706c299c-4737-4e0d-8e53-8c88681b5b48",
   "metadata": {},
   "outputs": [
    {
     "name": "stdout",
     "output_type": "stream",
     "text": [
      "# packages in environment at /Users/mrnickb/opt/anaconda3:\n",
      "#\n",
      "# Name                    Version                   Build  Channel\n",
      "alpaca-trade-api          2.3.0                    pypi_0    pypi\n",
      "\n",
      "Note: you may need to restart the kernel to use updated packages.\n"
     ]
    }
   ],
   "source": [
    "conda list alpaca-trade-api"
   ]
  },
  {
   "cell_type": "code",
   "execution_count": null,
   "id": "ca0edf61-fabd-4359-9346-3f0902bbbc65",
   "metadata": {},
   "outputs": [],
   "source": []
  }
 ],
 "metadata": {
  "kernelspec": {
   "display_name": "Python 3 (ipykernel)",
   "language": "python",
   "name": "python3"
  },
  "language_info": {
   "codemirror_mode": {
    "name": "ipython",
    "version": 3
   },
   "file_extension": ".py",
   "mimetype": "text/x-python",
   "name": "python",
   "nbconvert_exporter": "python",
   "pygments_lexer": "ipython3",
   "version": "3.9.12"
  }
 },
 "nbformat": 4,
 "nbformat_minor": 5
}
